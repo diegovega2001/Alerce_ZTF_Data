{
 "cells": [
  {
   "cell_type": "code",
   "execution_count": 1,
   "metadata": {
    "scrolled": true
   },
   "outputs": [
    {
     "name": "stdout",
     "output_type": "stream",
     "text": [
      "Requirement already satisfied: pyarrow in c:\\users\\julio\\anaconda3\\lib\\site-packages (13.0.0)\n",
      "Requirement already satisfied: numpy>=1.16.6 in c:\\users\\julio\\anaconda3\\lib\\site-packages (from pyarrow) (1.25.2)\n"
     ]
    }
   ],
   "source": [
    "import pandas as pd\n",
    "import numpy as np\n",
    "import matplotlib.pyplot as plt\n",
    "import pyarrow as pa\n",
    "!pip install pyarrow\n"
   ]
  },
  {
   "cell_type": "markdown",
   "metadata": {},
   "source": [
    "## Leer archivos \n",
    "\n",
    "Esta parte es solo para mostrar como se limpiaron y crearon los subconjuntos no es necesario correr esto"
   ]
  },
  {
   "cell_type": "code",
   "execution_count": 2,
   "metadata": {},
   "outputs": [],
   "source": [
    "df = pd.read_csv(\"alert_detections_V2.csv\")\n",
    "\n"
   ]
  },
  {
   "cell_type": "markdown",
   "metadata": {},
   "source": [
    "Normalizamos la data"
   ]
  },
  {
   "cell_type": "code",
   "execution_count": 3,
   "metadata": {},
   "outputs": [],
   "source": [
    "from sklearn.preprocessing import MinMaxScaler"
   ]
  },
  {
   "cell_type": "code",
   "execution_count": 4,
   "metadata": {},
   "outputs": [],
   "source": [
    "scaler = MinMaxScaler()"
   ]
  },
  {
   "cell_type": "code",
   "execution_count": 5,
   "metadata": {},
   "outputs": [],
   "source": [
    "normalized_data = scaler.fit_transform(df[['magpsf_corr']])"
   ]
  },
  {
   "cell_type": "code",
   "execution_count": 6,
   "metadata": {},
   "outputs": [],
   "source": [
    "df['magpsf_corr'] = normalized_data"
   ]
  },
  {
   "cell_type": "code",
   "execution_count": 7,
   "metadata": {},
   "outputs": [],
   "source": [
    "normalized_data = scaler.fit_transform(df[['sigmapsf_corr']])"
   ]
  },
  {
   "cell_type": "code",
   "execution_count": 8,
   "metadata": {},
   "outputs": [],
   "source": [
    "df['sigmapsf_corr'] = normalized_data"
   ]
  },
  {
   "cell_type": "code",
   "execution_count": 9,
   "metadata": {},
   "outputs": [],
   "source": [
    "normalized_data = scaler.fit_transform(df[['sigmapsf_corr_ext']])"
   ]
  },
  {
   "cell_type": "code",
   "execution_count": 10,
   "metadata": {},
   "outputs": [],
   "source": [
    "df['sigmapsf_corr_ext'] = normalized_data"
   ]
  },
  {
   "cell_type": "code",
   "execution_count": 11,
   "metadata": {},
   "outputs": [
    {
     "name": "stdout",
     "output_type": "stream",
     "text": [
      "<class 'pandas.core.frame.DataFrame'>\n",
      "RangeIndex: 115006366 entries, 0 to 115006365\n",
      "Data columns (total 7 columns):\n",
      " #   Column             Dtype  \n",
      "---  ------             -----  \n",
      " 0   oid                object \n",
      " 1   candid             int64  \n",
      " 2   fid                int64  \n",
      " 3   mjd                float64\n",
      " 4   magpsf_corr        float64\n",
      " 5   sigmapsf_corr      float64\n",
      " 6   sigmapsf_corr_ext  float64\n",
      "dtypes: float64(4), int64(2), object(1)\n",
      "memory usage: 6.0+ GB\n"
     ]
    }
   ],
   "source": [
    "df.info()"
   ]
  },
  {
   "cell_type": "code",
   "execution_count": 12,
   "metadata": {},
   "outputs": [
    {
     "data": {
      "text/html": [
       "<div>\n",
       "<style scoped>\n",
       "    .dataframe tbody tr th:only-of-type {\n",
       "        vertical-align: middle;\n",
       "    }\n",
       "\n",
       "    .dataframe tbody tr th {\n",
       "        vertical-align: top;\n",
       "    }\n",
       "\n",
       "    .dataframe thead th {\n",
       "        text-align: right;\n",
       "    }\n",
       "</style>\n",
       "<table border=\"1\" class=\"dataframe\">\n",
       "  <thead>\n",
       "    <tr style=\"text-align: right;\">\n",
       "      <th></th>\n",
       "      <th>oid</th>\n",
       "      <th>candid</th>\n",
       "      <th>fid</th>\n",
       "      <th>mjd</th>\n",
       "      <th>magpsf_corr</th>\n",
       "      <th>sigmapsf_corr</th>\n",
       "      <th>sigmapsf_corr_ext</th>\n",
       "    </tr>\n",
       "  </thead>\n",
       "  <tbody>\n",
       "    <tr>\n",
       "      <th>0</th>\n",
       "      <td>ZTF19aadtwmk</td>\n",
       "      <td>749518355015010113</td>\n",
       "      <td>2</td>\n",
       "      <td>58503.518357</td>\n",
       "      <td>0.063876</td>\n",
       "      <td>1.182881e-03</td>\n",
       "      <td>1.348758e-07</td>\n",
       "    </tr>\n",
       "    <tr>\n",
       "      <th>1</th>\n",
       "      <td>ZTF19aadtwrw</td>\n",
       "      <td>786334953115010005</td>\n",
       "      <td>2</td>\n",
       "      <td>58540.334954</td>\n",
       "      <td>0.082389</td>\n",
       "      <td>1.331487e-07</td>\n",
       "      <td>2.128044e-07</td>\n",
       "    </tr>\n",
       "    <tr>\n",
       "      <th>2</th>\n",
       "      <td>ZTF19aadtwrw</td>\n",
       "      <td>1242254683115010009</td>\n",
       "      <td>2</td>\n",
       "      <td>58996.254688</td>\n",
       "      <td>0.082596</td>\n",
       "      <td>2.603893e-08</td>\n",
       "      <td>1.732992e-07</td>\n",
       "    </tr>\n",
       "    <tr>\n",
       "      <th>3</th>\n",
       "      <td>ZTF19aadtwtc</td>\n",
       "      <td>749520170615015001</td>\n",
       "      <td>2</td>\n",
       "      <td>58503.520174</td>\n",
       "      <td>NaN</td>\n",
       "      <td>NaN</td>\n",
       "      <td>NaN</td>\n",
       "    </tr>\n",
       "    <tr>\n",
       "      <th>4</th>\n",
       "      <td>ZTF19aadtwtk</td>\n",
       "      <td>827361202615015012</td>\n",
       "      <td>2</td>\n",
       "      <td>58581.361204</td>\n",
       "      <td>0.062115</td>\n",
       "      <td>1.182881e-03</td>\n",
       "      <td>8.811528e-08</td>\n",
       "    </tr>\n",
       "  </tbody>\n",
       "</table>\n",
       "</div>"
      ],
      "text/plain": [
       "            oid               candid  fid           mjd  magpsf_corr  \\\n",
       "0  ZTF19aadtwmk   749518355015010113    2  58503.518357     0.063876   \n",
       "1  ZTF19aadtwrw   786334953115010005    2  58540.334954     0.082389   \n",
       "2  ZTF19aadtwrw  1242254683115010009    2  58996.254688     0.082596   \n",
       "3  ZTF19aadtwtc   749520170615015001    2  58503.520174          NaN   \n",
       "4  ZTF19aadtwtk   827361202615015012    2  58581.361204     0.062115   \n",
       "\n",
       "   sigmapsf_corr  sigmapsf_corr_ext  \n",
       "0   1.182881e-03       1.348758e-07  \n",
       "1   1.331487e-07       2.128044e-07  \n",
       "2   2.603893e-08       1.732992e-07  \n",
       "3            NaN                NaN  \n",
       "4   1.182881e-03       8.811528e-08  "
      ]
     },
     "execution_count": 12,
     "metadata": {},
     "output_type": "execute_result"
    }
   ],
   "source": [
    "df.head()"
   ]
  },
  {
   "cell_type": "markdown",
   "metadata": {},
   "source": [
    "Se puede ver que hay elementos NaN , pero si se intenta eliminar directamente se puede colgar el programa ya que es muy pesado\n",
    "entonces buscamos formas de reducir"
   ]
  },
  {
   "cell_type": "code",
   "execution_count": 13,
   "metadata": {},
   "outputs": [
    {
     "data": {
      "text/plain": [
       "0            ZTF19aadtwmk\n",
       "1            ZTF19aadtwrw\n",
       "2            ZTF19aadtwrw\n",
       "3            ZTF19aadtwtc\n",
       "4            ZTF19aadtwtk\n",
       "                 ...     \n",
       "115006361    ZTF19aadtvxg\n",
       "115006362    ZTF19aadtvyr\n",
       "115006363    ZTF19aadtwcs\n",
       "115006364    ZTF19aadtwdj\n",
       "115006365    ZTF19aadtwed\n",
       "Name: oid, Length: 115006366, dtype: object"
      ]
     },
     "execution_count": 13,
     "metadata": {},
     "output_type": "execute_result"
    }
   ],
   "source": [
    "df['oid']"
   ]
  },
  {
   "cell_type": "markdown",
   "metadata": {},
   "source": [
    "Buscamos ver cuantos valor unicos hay para poder crear las curvas de luz. Para ello se usa .values_counts() que nos devuelve la cantidad de veces que se repite un elemento de una columna en especifico, en este caso oid que se refiere a una ID de identificacion"
   ]
  },
  {
   "cell_type": "code",
   "execution_count": 14,
   "metadata": {},
   "outputs": [],
   "source": [
    "conteo_id = df['oid'].value_counts()"
   ]
  },
  {
   "cell_type": "markdown",
   "metadata": {},
   "source": [
    "Luego vemos cuantos valores unicos se repiten "
   ]
  },
  {
   "cell_type": "code",
   "execution_count": 15,
   "metadata": {},
   "outputs": [
    {
     "data": {
      "text/plain": [
       "oid\n",
       "ZTF17aabvekq    1589\n",
       "ZTF18abbvavt    1569\n",
       "ZTF18abasgau    1511\n",
       "ZTF18aauselm    1511\n",
       "ZTF18abuectf    1500\n",
       "                ... \n",
       "ZTF19abnsmnb       1\n",
       "ZTF19abnsmlr       1\n",
       "ZTF19abnsldv       1\n",
       "ZTF19abnsjhy       1\n",
       "ZTF19aadtvyr       1\n",
       "Name: count, Length: 36720383, dtype: int64"
      ]
     },
     "execution_count": 15,
     "metadata": {},
     "output_type": "execute_result"
    }
   ],
   "source": [
    "conteo_id"
   ]
  },
  {
   "cell_type": "markdown",
   "metadata": {},
   "source": [
    "Como se piden ver curvas de luz se decidio filtrar los elementos con pocas instancias de avistamiento , estos luego seran elementos que se consideraran a nivel outliers, pero despues se vera el trabajo con ellos. Con ello se limpian todos los valores menores a 8 repeticiones "
   ]
  },
  {
   "cell_type": "code",
   "execution_count": 17,
   "metadata": {},
   "outputs": [],
   "source": [
    "#valores_a_mantener = conteo_id[conteo_id >= 8].index"
   ]
  },
  {
   "cell_type": "code",
   "execution_count": 18,
   "metadata": {},
   "outputs": [],
   "source": [
    "valores_peque=conteo_id[conteo_id < 8].index"
   ]
  },
  {
   "cell_type": "code",
   "execution_count": 21,
   "metadata": {},
   "outputs": [],
   "source": [
    "df_filtrado = df[df['oid'].isin(valores_a_mantener)]"
   ]
  },
  {
   "cell_type": "code",
   "execution_count": 19,
   "metadata": {},
   "outputs": [],
   "source": [
    "df_peque=df[df['oid'].isin(valores_peque)]"
   ]
  },
  {
   "cell_type": "code",
   "execution_count": 23,
   "metadata": {},
   "outputs": [
    {
     "data": {
      "text/plain": [
       "1            ZTF19aadtwrw\n",
       "2            ZTF19aadtwrw\n",
       "4            ZTF19aadtwtk\n",
       "5            ZTF19aadtwtl\n",
       "7            ZTF19aadtwzv\n",
       "                 ...     \n",
       "115006350    ZTF19aadtuje\n",
       "115006351    ZTF19aadtumc\n",
       "115006352    ZTF19aadtunz\n",
       "115006363    ZTF19aadtwcs\n",
       "115006364    ZTF19aadtwdj\n",
       "Name: oid, Length: 65697558, dtype: object"
      ]
     },
     "execution_count": 23,
     "metadata": {},
     "output_type": "execute_result"
    }
   ],
   "source": [
    "df_filtrado['oid']"
   ]
  },
  {
   "cell_type": "markdown",
   "metadata": {},
   "source": [
    "La razon de esto y no de directamente sub dividir el dataset en mini data set es por ejemplo oid ZTF19aadtwrw puede teener instancia al inicio , luego a la mitad y al final y con ello se puede perder valores importantes de la curva de luz entonces es necesario mantener todas las instancias ZTF19aadtwrw en el mismo set. Luego se eliminan todos los valores NaN de este subset ya que no aportan informacion con la que podamos trabajar."
   ]
  },
  {
   "cell_type": "code",
   "execution_count": 24,
   "metadata": {},
   "outputs": [],
   "source": [
    "limpio=df_filtrado.dropna()"
   ]
  },
  {
   "cell_type": "code",
   "execution_count": 20,
   "metadata": {},
   "outputs": [],
   "source": [
    "limpio_peque=df_peque.dropna()"
   ]
  },
  {
   "cell_type": "code",
   "execution_count": 31,
   "metadata": {},
   "outputs": [
    {
     "data": {
      "text/html": [
       "<div>\n",
       "<style scoped>\n",
       "    .dataframe tbody tr th:only-of-type {\n",
       "        vertical-align: middle;\n",
       "    }\n",
       "\n",
       "    .dataframe tbody tr th {\n",
       "        vertical-align: top;\n",
       "    }\n",
       "\n",
       "    .dataframe thead th {\n",
       "        text-align: right;\n",
       "    }\n",
       "</style>\n",
       "<table border=\"1\" class=\"dataframe\">\n",
       "  <thead>\n",
       "    <tr style=\"text-align: right;\">\n",
       "      <th></th>\n",
       "      <th>oid</th>\n",
       "      <th>candid</th>\n",
       "      <th>fid</th>\n",
       "      <th>mjd</th>\n",
       "      <th>magpsf_corr</th>\n",
       "      <th>sigmapsf_corr</th>\n",
       "      <th>sigmapsf_corr_ext</th>\n",
       "    </tr>\n",
       "  </thead>\n",
       "  <tbody>\n",
       "    <tr>\n",
       "      <th>0</th>\n",
       "      <td>ZTF19aadtwmk</td>\n",
       "      <td>749518355015010113</td>\n",
       "      <td>2</td>\n",
       "      <td>58503.518357</td>\n",
       "      <td>0.063876</td>\n",
       "      <td>1.182881e-03</td>\n",
       "      <td>1.348758e-07</td>\n",
       "    </tr>\n",
       "    <tr>\n",
       "      <th>8</th>\n",
       "      <td>ZTF19aadtxfp</td>\n",
       "      <td>749518353515010148</td>\n",
       "      <td>2</td>\n",
       "      <td>58503.518357</td>\n",
       "      <td>0.081125</td>\n",
       "      <td>5.944622e-07</td>\n",
       "      <td>6.381659e-07</td>\n",
       "    </tr>\n",
       "    <tr>\n",
       "      <th>9</th>\n",
       "      <td>ZTF19aadtxgz</td>\n",
       "      <td>749518353515010060</td>\n",
       "      <td>2</td>\n",
       "      <td>58503.518357</td>\n",
       "      <td>0.076267</td>\n",
       "      <td>5.048312e-07</td>\n",
       "      <td>5.390159e-07</td>\n",
       "    </tr>\n",
       "    <tr>\n",
       "      <th>11</th>\n",
       "      <td>ZTF19aadtxoc</td>\n",
       "      <td>938163630615015017</td>\n",
       "      <td>2</td>\n",
       "      <td>58692.163634</td>\n",
       "      <td>0.033804</td>\n",
       "      <td>1.182881e-03</td>\n",
       "      <td>4.933861e-08</td>\n",
       "    </tr>\n",
       "    <tr>\n",
       "      <th>12</th>\n",
       "      <td>ZTF19aadtxop</td>\n",
       "      <td>941160340615015158</td>\n",
       "      <td>1</td>\n",
       "      <td>58695.160347</td>\n",
       "      <td>0.041588</td>\n",
       "      <td>1.182881e-03</td>\n",
       "      <td>5.151120e-08</td>\n",
       "    </tr>\n",
       "  </tbody>\n",
       "</table>\n",
       "</div>"
      ],
      "text/plain": [
       "             oid              candid  fid           mjd  magpsf_corr  \\\n",
       "0   ZTF19aadtwmk  749518355015010113    2  58503.518357     0.063876   \n",
       "8   ZTF19aadtxfp  749518353515010148    2  58503.518357     0.081125   \n",
       "9   ZTF19aadtxgz  749518353515010060    2  58503.518357     0.076267   \n",
       "11  ZTF19aadtxoc  938163630615015017    2  58692.163634     0.033804   \n",
       "12  ZTF19aadtxop  941160340615015158    1  58695.160347     0.041588   \n",
       "\n",
       "    sigmapsf_corr  sigmapsf_corr_ext  \n",
       "0    1.182881e-03       1.348758e-07  \n",
       "8    5.944622e-07       6.381659e-07  \n",
       "9    5.048312e-07       5.390159e-07  \n",
       "11   1.182881e-03       4.933861e-08  \n",
       "12   1.182881e-03       5.151120e-08  "
      ]
     },
     "execution_count": 31,
     "metadata": {},
     "output_type": "execute_result"
    }
   ],
   "source": [
    "limpio_peque.head()"
   ]
  },
  {
   "cell_type": "markdown",
   "metadata": {},
   "source": [
    "Con ello llegamos a la necesidad de de nuevo limpiar la base de datos de valores con menos de 8 repeticiones con valores distintos a NaN la razon de repetir esto ahora es como se dijo antes aplicar dropna() en la base de datos original es muy pesado"
   ]
  },
  {
   "cell_type": "code",
   "execution_count": 26,
   "metadata": {},
   "outputs": [],
   "source": [
    "conteo_id = limpio['oid'].value_counts()"
   ]
  },
  {
   "cell_type": "code",
   "execution_count": 27,
   "metadata": {},
   "outputs": [],
   "source": [
    "valores_a_mantener = conteo_id[conteo_id >= 8].index"
   ]
  },
  {
   "cell_type": "code",
   "execution_count": 28,
   "metadata": {},
   "outputs": [],
   "source": [
    "df_filtrado = limpio[limpio['oid'].isin(valores_a_mantener)]"
   ]
  },
  {
   "cell_type": "code",
   "execution_count": 29,
   "metadata": {},
   "outputs": [
    {
     "data": {
      "text/plain": [
       "1            ZTF19aadtwrw\n",
       "2            ZTF19aadtwrw\n",
       "4            ZTF19aadtwtk\n",
       "5            ZTF19aadtwtl\n",
       "7            ZTF19aadtwzv\n",
       "                 ...     \n",
       "115006350    ZTF19aadtuje\n",
       "115006351    ZTF19aadtumc\n",
       "115006352    ZTF19aadtunz\n",
       "115006363    ZTF19aadtwcs\n",
       "115006364    ZTF19aadtwdj\n",
       "Name: oid, Length: 63701146, dtype: object"
      ]
     },
     "execution_count": 29,
     "metadata": {},
     "output_type": "execute_result"
    }
   ],
   "source": [
    "df_filtrado['oid']"
   ]
  },
  {
   "cell_type": "markdown",
   "metadata": {},
   "source": [
    "si intentamos agrupar aun todavia hay problemas de memoria entonces se hace sub data base"
   ]
  },
  {
   "cell_type": "code",
   "execution_count": 32,
   "metadata": {},
   "outputs": [],
   "source": [
    "conteo_id = df_filtrado['oid'].value_counts()"
   ]
  },
  {
   "cell_type": "code",
   "execution_count": 33,
   "metadata": {},
   "outputs": [],
   "source": [
    "valores_a_mantener1 = conteo_id[conteo_id <= 32].index"
   ]
  },
  {
   "cell_type": "code",
   "execution_count": 34,
   "metadata": {},
   "outputs": [],
   "source": [
    "valores_a_mantener2 = conteo_id[(conteo_id >= 33) & (conteo_id <= 64)].index"
   ]
  },
  {
   "cell_type": "code",
   "execution_count": 35,
   "metadata": {},
   "outputs": [],
   "source": [
    "valores_a_mantener3 = conteo_id[(conteo_id >= 65) & (conteo_id <= 100)].index"
   ]
  },
  {
   "cell_type": "code",
   "execution_count": 36,
   "metadata": {},
   "outputs": [],
   "source": [
    "valores_a_mantener4 = conteo_id[(conteo_id >= 101) & (conteo_id <= 150)].index"
   ]
  },
  {
   "cell_type": "code",
   "execution_count": 37,
   "metadata": {},
   "outputs": [],
   "source": [
    "valores_a_mantener5 = conteo_id[(conteo_id >= 151) & (conteo_id <= 200)].index"
   ]
  },
  {
   "cell_type": "code",
   "execution_count": 38,
   "metadata": {},
   "outputs": [],
   "source": [
    "valores_a_mantener6 = conteo_id[conteo_id >= 201].index"
   ]
  },
  {
   "cell_type": "code",
   "execution_count": 40,
   "metadata": {},
   "outputs": [],
   "source": [
    "df_filtrado1 = df_filtrado[df_filtrado['oid'].isin(valores_a_mantener1)]"
   ]
  },
  {
   "cell_type": "code",
   "execution_count": 41,
   "metadata": {},
   "outputs": [],
   "source": [
    "df_filtrado2 = df_filtrado[df_filtrado['oid'].isin(valores_a_mantener2)]"
   ]
  },
  {
   "cell_type": "code",
   "execution_count": 42,
   "metadata": {},
   "outputs": [],
   "source": [
    "df_filtrado3 = df_filtrado[df_filtrado['oid'].isin(valores_a_mantener3)]"
   ]
  },
  {
   "cell_type": "code",
   "execution_count": 43,
   "metadata": {},
   "outputs": [],
   "source": [
    "df_filtrado4 = df_filtrado[df_filtrado['oid'].isin(valores_a_mantener4)]"
   ]
  },
  {
   "cell_type": "code",
   "execution_count": 44,
   "metadata": {},
   "outputs": [],
   "source": [
    "df_filtrado5 = df_filtrado[df_filtrado['oid'].isin(valores_a_mantener5)]"
   ]
  },
  {
   "cell_type": "code",
   "execution_count": 45,
   "metadata": {},
   "outputs": [],
   "source": [
    "df_filtrado6 = df_filtrado[df_filtrado['oid'].isin(valores_a_mantener6)]"
   ]
  },
  {
   "cell_type": "code",
   "execution_count": 46,
   "metadata": {},
   "outputs": [
    {
     "data": {
      "text/plain": [
       "24           ZTF19aadtzqg\n",
       "40           ZTF18abcqlcf\n",
       "48           ZTF18abcqlfs\n",
       "68           ZTF19aaxlxhb\n",
       "71           ZTF19aaxlyfx\n",
       "                 ...     \n",
       "115006310    ZTF18aaxdopj\n",
       "115006351    ZTF19aadtumc\n",
       "115006352    ZTF19aadtunz\n",
       "115006363    ZTF19aadtwcs\n",
       "115006364    ZTF19aadtwdj\n",
       "Name: oid, Length: 12489271, dtype: object"
      ]
     },
     "execution_count": 46,
     "metadata": {},
     "output_type": "execute_result"
    }
   ],
   "source": [
    "df_filtrado1['oid']"
   ]
  },
  {
   "cell_type": "code",
   "execution_count": 52,
   "metadata": {},
   "outputs": [],
   "source": [
    "grouped_df1 = df_filtrado1.groupby('oid').agg({'mjd': list, 'magpsf_corr': list,'sigmapsf_corr': list, 'sigmapsf_corr_ext': list}).reset_index()"
   ]
  },
  {
   "cell_type": "code",
   "execution_count": 53,
   "metadata": {},
   "outputs": [],
   "source": [
    "grouped_df2 = df_filtrado2.groupby('oid').agg({'mjd': list, 'magpsf_corr': list,'sigmapsf_corr': list, 'sigmapsf_corr_ext': list}).reset_index()"
   ]
  },
  {
   "cell_type": "code",
   "execution_count": 54,
   "metadata": {},
   "outputs": [],
   "source": [
    "grouped_df3 = df_filtrado3.groupby('oid').agg({'mjd': list, 'magpsf_corr': list,'sigmapsf_corr': list, 'sigmapsf_corr_ext': list}).reset_index()"
   ]
  },
  {
   "cell_type": "code",
   "execution_count": 55,
   "metadata": {},
   "outputs": [],
   "source": [
    "grouped_df4 = df_filtrado4.groupby('oid').agg({'mjd': list, 'magpsf_corr': list,'sigmapsf_corr': list, 'sigmapsf_corr_ext': list}).reset_index()"
   ]
  },
  {
   "cell_type": "code",
   "execution_count": 56,
   "metadata": {},
   "outputs": [],
   "source": [
    "grouped_df5 = df_filtrado5.groupby('oid').agg({'mjd': list, 'magpsf_corr': list,'sigmapsf_corr': list, 'sigmapsf_corr_ext': list}).reset_index()"
   ]
  },
  {
   "cell_type": "code",
   "execution_count": 57,
   "metadata": {},
   "outputs": [],
   "source": [
    "grouped_df6 = df_filtrado6.groupby('oid').agg({'mjd': list, 'magpsf_corr': list,'sigmapsf_corr': list, 'sigmapsf_corr_ext': list}).reset_index()"
   ]
  },
  {
   "cell_type": "code",
   "execution_count": 58,
   "metadata": {},
   "outputs": [
    {
     "data": {
      "text/html": [
       "<div>\n",
       "<style scoped>\n",
       "    .dataframe tbody tr th:only-of-type {\n",
       "        vertical-align: middle;\n",
       "    }\n",
       "\n",
       "    .dataframe tbody tr th {\n",
       "        vertical-align: top;\n",
       "    }\n",
       "\n",
       "    .dataframe thead th {\n",
       "        text-align: right;\n",
       "    }\n",
       "</style>\n",
       "<table border=\"1\" class=\"dataframe\">\n",
       "  <thead>\n",
       "    <tr style=\"text-align: right;\">\n",
       "      <th></th>\n",
       "      <th>oid</th>\n",
       "      <th>mjd</th>\n",
       "      <th>magpsf_corr</th>\n",
       "      <th>sigmapsf_corr</th>\n",
       "      <th>sigmapsf_corr_ext</th>\n",
       "    </tr>\n",
       "  </thead>\n",
       "  <tbody>\n",
       "    <tr>\n",
       "      <th>0</th>\n",
       "      <td>ZTF17aaaaaam</td>\n",
       "      <td>[58441.4503008998, 58863.14361110004, 58860.16...</td>\n",
       "      <td>[0.10722576545228178, 0.10629140900397625, 0.0...</td>\n",
       "      <td>[7.252873810911128e-07, 5.756904597955859e-07,...</td>\n",
       "      <td>[7.78409652522136e-07, 6.366384761412083e-07, ...</td>\n",
       "    </tr>\n",
       "    <tr>\n",
       "      <th>1</th>\n",
       "      <td>ZTF17aaaaaby</td>\n",
       "      <td>[58558.16146990005, 58514.1369097, 58523.19567...</td>\n",
       "      <td>[0.07436800582468318, 0.07360884602625138, 0.0...</td>\n",
       "      <td>[0.0011828814948274984, 0.0011828814948274984,...</td>\n",
       "      <td>[1.4414228671196243e-07, 1.7022067823540551e-0...</td>\n",
       "    </tr>\n",
       "    <tr>\n",
       "      <th>2</th>\n",
       "      <td>ZTF17aaaaaco</td>\n",
       "      <td>[58447.403761600144, 58493.257962999865, 58374...</td>\n",
       "      <td>[0.08508767196564986, 0.08438869060934288, 0.0...</td>\n",
       "      <td>[4.1229438563203843e-07, 1.7287281232546362e-0...</td>\n",
       "      <td>[4.5782843655746114e-07, 2.6613572329251793e-0...</td>\n",
       "    </tr>\n",
       "    <tr>\n",
       "      <th>3</th>\n",
       "      <td>ZTF17aaaaact</td>\n",
       "      <td>[58876.14975690004, 58801.20188659988, 58801.2...</td>\n",
       "      <td>[0.09840360803829003, 0.09767951839105808, 0.0...</td>\n",
       "      <td>[4.3096585117082075e-07, 5.224134166380511e-07...</td>\n",
       "      <td>[7.564821272684444e-07, 7.811826395015311e-07,...</td>\n",
       "    </tr>\n",
       "    <tr>\n",
       "      <th>4</th>\n",
       "      <td>ZTF17aaaaads</td>\n",
       "      <td>[58464.24521989981, 58429.35648149997, 58741.4...</td>\n",
       "      <td>[0.09132265170939029, 0.08372124597092288, 0.0...</td>\n",
       "      <td>[0.0011828814948274984, 3.8605070399285295e-07...</td>\n",
       "      <td>[2.3933118709671457e-07, 4.7323085592347454e-0...</td>\n",
       "    </tr>\n",
       "  </tbody>\n",
       "</table>\n",
       "</div>"
      ],
      "text/plain": [
       "            oid                                                mjd  \\\n",
       "0  ZTF17aaaaaam  [58441.4503008998, 58863.14361110004, 58860.16...   \n",
       "1  ZTF17aaaaaby  [58558.16146990005, 58514.1369097, 58523.19567...   \n",
       "2  ZTF17aaaaaco  [58447.403761600144, 58493.257962999865, 58374...   \n",
       "3  ZTF17aaaaact  [58876.14975690004, 58801.20188659988, 58801.2...   \n",
       "4  ZTF17aaaaads  [58464.24521989981, 58429.35648149997, 58741.4...   \n",
       "\n",
       "                                         magpsf_corr  \\\n",
       "0  [0.10722576545228178, 0.10629140900397625, 0.0...   \n",
       "1  [0.07436800582468318, 0.07360884602625138, 0.0...   \n",
       "2  [0.08508767196564986, 0.08438869060934288, 0.0...   \n",
       "3  [0.09840360803829003, 0.09767951839105808, 0.0...   \n",
       "4  [0.09132265170939029, 0.08372124597092288, 0.0...   \n",
       "\n",
       "                                       sigmapsf_corr  \\\n",
       "0  [7.252873810911128e-07, 5.756904597955859e-07,...   \n",
       "1  [0.0011828814948274984, 0.0011828814948274984,...   \n",
       "2  [4.1229438563203843e-07, 1.7287281232546362e-0...   \n",
       "3  [4.3096585117082075e-07, 5.224134166380511e-07...   \n",
       "4  [0.0011828814948274984, 3.8605070399285295e-07...   \n",
       "\n",
       "                                   sigmapsf_corr_ext  \n",
       "0  [7.78409652522136e-07, 6.366384761412083e-07, ...  \n",
       "1  [1.4414228671196243e-07, 1.7022067823540551e-0...  \n",
       "2  [4.5782843655746114e-07, 2.6613572329251793e-0...  \n",
       "3  [7.564821272684444e-07, 7.811826395015311e-07,...  \n",
       "4  [2.3933118709671457e-07, 4.7323085592347454e-0...  "
      ]
     },
     "execution_count": 58,
     "metadata": {},
     "output_type": "execute_result"
    }
   ],
   "source": [
    "grouped_df1.head()"
   ]
  },
  {
   "cell_type": "markdown",
   "metadata": {},
   "source": [
    "Se crean mini data base para no necesitar cargar toda la base cada vez"
   ]
  },
  {
   "cell_type": "code",
   "execution_count": 66,
   "metadata": {},
   "outputs": [],
   "source": [
    "grouped_df1.to_csv('grouped_df1.csv')"
   ]
  },
  {
   "cell_type": "code",
   "execution_count": 67,
   "metadata": {},
   "outputs": [],
   "source": [
    "grouped_df2.to_csv('grouped_df2.csv')"
   ]
  },
  {
   "cell_type": "code",
   "execution_count": 68,
   "metadata": {},
   "outputs": [],
   "source": [
    "grouped_df3.to_csv('grouped_df3.csv')"
   ]
  },
  {
   "cell_type": "code",
   "execution_count": 69,
   "metadata": {},
   "outputs": [],
   "source": [
    "grouped_df4.to_csv('grouped_df4.csv')"
   ]
  },
  {
   "cell_type": "code",
   "execution_count": 70,
   "metadata": {},
   "outputs": [],
   "source": [
    "grouped_df5.to_csv('grouped_df5.csv')"
   ]
  },
  {
   "cell_type": "code",
   "execution_count": 71,
   "metadata": {},
   "outputs": [],
   "source": [
    "grouped_df6.to_csv('grouped_df6.csv')"
   ]
  },
  {
   "cell_type": "code",
   "execution_count": 93,
   "metadata": {},
   "outputs": [],
   "source": [
    "df_trabajo = pd.concat([grouped_df1, grouped_df2, grouped_df3, grouped_df4, grouped_df5, grouped_df6], axis=0, ignore_index=True)"
   ]
  },
  {
   "cell_type": "code",
   "execution_count": 95,
   "metadata": {},
   "outputs": [],
   "source": [
    "max_length_mjd = df_trabajo['mjd'].apply(len).max()\n",
    "max_length_magpsf_corr = df_trabajo['magpsf_corr'].apply(len).max()\n",
    "max_length = max(max_length_mjd, max_length_magpsf_corr)"
   ]
  },
  {
   "cell_type": "code",
   "execution_count": 98,
   "metadata": {},
   "outputs": [
    {
     "data": {
      "text/plain": [
       "1589"
      ]
     },
     "execution_count": 98,
     "metadata": {},
     "output_type": "execute_result"
    }
   ],
   "source": [
    "df_trabajo_tiempo=pad_sequences(df_trabajo['mjd'],maxlen=max)"
   ]
  },
  {
   "cell_type": "code",
   "execution_count": null,
   "metadata": {},
   "outputs": [],
   "source": []
  },
  {
   "cell_type": "code",
   "execution_count": 72,
   "metadata": {},
   "outputs": [],
   "source": [
    "objects_id = grouped_df2['oid']\n",
    "hmjds = grouped_df2['mjd']\n",
    "mags = grouped_df2['magpsf_corr']\n",
    "magerrs = grouped_df2['sigmapsf_corr_ext']"
   ]
  },
  {
   "cell_type": "code",
   "execution_count": 73,
   "metadata": {
    "scrolled": false
   },
   "outputs": [],
   "source": [
    "lengths = [len(i) for i in hmjds ]\n"
   ]
  },
  {
   "cell_type": "code",
   "execution_count": 74,
   "metadata": {},
   "outputs": [],
   "source": [
    "max_length = max(lengths)\n",
    "max_lengths_index = lengths.index(max_length)"
   ]
  },
  {
   "cell_type": "code",
   "execution_count": 75,
   "metadata": {},
   "outputs": [
    {
     "data": {
      "text/plain": [
       "69"
      ]
     },
     "execution_count": 75,
     "metadata": {},
     "output_type": "execute_result"
    }
   ],
   "source": [
    "max_lengths_index"
   ]
  },
  {
   "cell_type": "code",
   "execution_count": 76,
   "metadata": {},
   "outputs": [],
   "source": [
    "n = max_lengths_index"
   ]
  },
  {
   "cell_type": "code",
   "execution_count": null,
   "metadata": {},
   "outputs": [],
   "source": [
    "hmjds1 = np.asarray(hmjds[0])"
   ]
  },
  {
   "cell_type": "code",
   "execution_count": null,
   "metadata": {},
   "outputs": [],
   "source": [
    "hmjds2=hmjds[0][0]"
   ]
  },
  {
   "cell_type": "code",
   "execution_count": null,
   "metadata": {},
   "outputs": [],
   "source": [
    "abs_time = hmjds1-hmjds2\n",
    "mag = mags[0]\n",
    "error = magerrs[0]\n",
    "\n",
    "plt.errorbar(abs_time, mag,yerr=error,fmt = '.')\n",
    "plt.title('Light curve of objectid = '+str(objects_id[0]))\n",
    "plt.xlabel('Days')\n",
    "plt.ylabel('Magnitude')"
   ]
  },
  {
   "cell_type": "code",
   "execution_count": 86,
   "metadata": {},
   "outputs": [],
   "source": [
    "grouped_df2['diferencia']=grouped_df2['mjd'].apply(lambda x:max(x)-min(x))"
   ]
  },
  {
   "cell_type": "code",
   "execution_count": 88,
   "metadata": {},
   "outputs": [],
   "source": [
    "magg=np.array(mag)"
   ]
  },
  {
   "cell_type": "code",
   "execution_count": 92,
   "metadata": {},
   "outputs": [
    {
     "data": {
      "text/plain": [
       "<ErrorbarContainer object of 3 artists>"
      ]
     },
     "execution_count": 92,
     "metadata": {},
     "output_type": "execute_result"
    },
    {
     "data": {
      "image/png": "[encoded data removed]",
      "text/plain": [
       "<Figure size 640x480 with 1 Axes>"
      ]
     },
     "metadata": {},
     "output_type": "display_data"
    }
   ],
   "source": [
    "period=grouped_df2['diferencia'][0]\n",
    "folded_time = abs_time % period/period\n",
    "sorted = np.argsort(folded_time)\n",
    "\n",
    "folded_time = folded_time[sorted]\n",
    "folded_mag = magg[sorted]\n",
    "#folded_error = error[sorted]\n",
    "\n",
    "plt.errorbar(folded_time, folded_mag,fmt = '.')"
   ]
  },
  {
   "cell_type": "markdown",
   "metadata": {},
   "source": [
    "# Clusters\n",
    "El metodo a utilizar por ahora es K means por su facilidad de encontrar centroides que es como esperamos que la data se vea representada, si la data no es representada por esta modalidad tambien se plantea el uso de DBSCAN por si la densidad es mejor elemento. De forma paralela mientras se trabajaba en la limpieza de los datos se busco ver como los datos podian reaccionar a clusterizacion sin curva de luz. "
   ]
  },
  {
   "cell_type": "code",
   "execution_count": 21,
   "metadata": {},
   "outputs": [],
   "source": [
    "import pandas as pd\n",
    "import numpy as np\n",
    "from sklearn.cluster import KMeans\n",
    "from sklearn import datasets\n",
    "import matplotlib.pyplot as plt"
   ]
  },
  {
   "cell_type": "markdown",
   "metadata": {},
   "source": [
    "Para poder trabajar con esta parte en el github hay una base de datos que son los datos con menos de 8 elementos. El siguiente codigo no debe usarse."
   ]
  },
  {
   "cell_type": "code",
   "execution_count": null,
   "metadata": {},
   "outputs": [],
   "source": [
    "limpio_peque.to_csv('limpio_peque.csv')"
   ]
  },
  {
   "cell_type": "code",
   "execution_count": null,
   "metadata": {},
   "outputs": [],
   "source": [
    "limpio_peque = pd.read_csv(\"Data\\grouped_df1.csv\")"
   ]
  },
  {
   "cell_type": "code",
   "execution_count": 22,
   "metadata": {},
   "outputs": [],
   "source": [
    "sub_peque = limpio_peque.sample(frac=0.3)"
   ]
  },
  {
   "cell_type": "code",
   "execution_count": 32,
   "metadata": {},
   "outputs": [
    {
     "data": {
      "text/html": [
       "<div>\n",
       "<style scoped>\n",
       "    .dataframe tbody tr th:only-of-type {\n",
       "        vertical-align: middle;\n",
       "    }\n",
       "\n",
       "    .dataframe tbody tr th {\n",
       "        vertical-align: top;\n",
       "    }\n",
       "\n",
       "    .dataframe thead th {\n",
       "        text-align: right;\n",
       "    }\n",
       "</style>\n",
       "<table border=\"1\" class=\"dataframe\">\n",
       "  <thead>\n",
       "    <tr style=\"text-align: right;\">\n",
       "      <th></th>\n",
       "      <th>oid</th>\n",
       "      <th>candid</th>\n",
       "      <th>fid</th>\n",
       "      <th>mjd</th>\n",
       "      <th>magpsf_corr</th>\n",
       "      <th>sigmapsf_corr</th>\n",
       "      <th>sigmapsf_corr_ext</th>\n",
       "    </tr>\n",
       "  </thead>\n",
       "  <tbody>\n",
       "    <tr>\n",
       "      <th>76044432</th>\n",
       "      <td>ZTF18aakioui</td>\n",
       "      <td>941273102015015058</td>\n",
       "      <td>2</td>\n",
       "      <td>58695.273102</td>\n",
       "      <td>0.062371</td>\n",
       "      <td>5.096109e-07</td>\n",
       "      <td>5.115988e-07</td>\n",
       "    </tr>\n",
       "    <tr>\n",
       "      <th>55001958</th>\n",
       "      <td>ZTF18acqbjlf</td>\n",
       "      <td>1224456570715010084</td>\n",
       "      <td>1</td>\n",
       "      <td>58978.456574</td>\n",
       "      <td>0.072777</td>\n",
       "      <td>2.419767e-08</td>\n",
       "      <td>1.783544e-07</td>\n",
       "    </tr>\n",
       "    <tr>\n",
       "      <th>76464946</th>\n",
       "      <td>ZTF18acmhxec</td>\n",
       "      <td>988521483215010131</td>\n",
       "      <td>1</td>\n",
       "      <td>58742.521482</td>\n",
       "      <td>0.073051</td>\n",
       "      <td>4.259572e-07</td>\n",
       "      <td>5.157550e-07</td>\n",
       "    </tr>\n",
       "    <tr>\n",
       "      <th>90123182</th>\n",
       "      <td>ZTF19aacetxu</td>\n",
       "      <td>1131209371915015019</td>\n",
       "      <td>2</td>\n",
       "      <td>58885.209375</td>\n",
       "      <td>0.048193</td>\n",
       "      <td>1.182881e-03</td>\n",
       "      <td>5.920786e-08</td>\n",
       "    </tr>\n",
       "    <tr>\n",
       "      <th>12144556</th>\n",
       "      <td>ZTF19abndjmc</td>\n",
       "      <td>945420421515015021</td>\n",
       "      <td>1</td>\n",
       "      <td>58699.420428</td>\n",
       "      <td>0.065557</td>\n",
       "      <td>2.088038e-07</td>\n",
       "      <td>2.444983e-07</td>\n",
       "    </tr>\n",
       "  </tbody>\n",
       "</table>\n",
       "</div>"
      ],
      "text/plain": [
       "                   oid               candid  fid           mjd  magpsf_corr  \\\n",
       "76044432  ZTF18aakioui   941273102015015058    2  58695.273102     0.062371   \n",
       "55001958  ZTF18acqbjlf  1224456570715010084    1  58978.456574     0.072777   \n",
       "76464946  ZTF18acmhxec   988521483215010131    1  58742.521482     0.073051   \n",
       "90123182  ZTF19aacetxu  1131209371915015019    2  58885.209375     0.048193   \n",
       "12144556  ZTF19abndjmc   945420421515015021    1  58699.420428     0.065557   \n",
       "\n",
       "          sigmapsf_corr  sigmapsf_corr_ext  \n",
       "76044432   5.096109e-07       5.115988e-07  \n",
       "55001958   2.419767e-08       1.783544e-07  \n",
       "76464946   4.259572e-07       5.157550e-07  \n",
       "90123182   1.182881e-03       5.920786e-08  \n",
       "12144556   2.088038e-07       2.444983e-07  "
      ]
     },
     "execution_count": 32,
     "metadata": {},
     "output_type": "execute_result"
    }
   ],
   "source": [
    "sub_peque.head()"
   ]
  },
  {
   "cell_type": "code",
   "execution_count": 24,
   "metadata": {},
   "outputs": [],
   "source": [
    "limpio_peque1=limpio_peque['magpsf_corr']\n",
    "limpio_peque2=limpio_peque['sigmapsf_corr']\n",
    "limpio_peque3=limpio_peque['sigmapsf_corr_ext']"
   ]
  },
  {
   "cell_type": "code",
   "execution_count": 33,
   "metadata": {},
   "outputs": [],
   "source": [
    "df_unido=pd.concat([limpio_peque1, limpio_peque2, limpio_peque3], axis=1)"
   ]
  },
  {
   "cell_type": "code",
   "execution_count": 34,
   "metadata": {},
   "outputs": [
    {
     "data": {
      "text/html": [
       "<div>\n",
       "<style scoped>\n",
       "    .dataframe tbody tr th:only-of-type {\n",
       "        vertical-align: middle;\n",
       "    }\n",
       "\n",
       "    .dataframe tbody tr th {\n",
       "        vertical-align: top;\n",
       "    }\n",
       "\n",
       "    .dataframe thead th {\n",
       "        text-align: right;\n",
       "    }\n",
       "</style>\n",
       "<table border=\"1\" class=\"dataframe\">\n",
       "  <thead>\n",
       "    <tr style=\"text-align: right;\">\n",
       "      <th></th>\n",
       "      <th>magpsf_corr</th>\n",
       "      <th>sigmapsf_corr</th>\n",
       "      <th>sigmapsf_corr_ext</th>\n",
       "    </tr>\n",
       "  </thead>\n",
       "  <tbody>\n",
       "    <tr>\n",
       "      <th>0</th>\n",
       "      <td>0.063876</td>\n",
       "      <td>1.182881e-03</td>\n",
       "      <td>1.348758e-07</td>\n",
       "    </tr>\n",
       "    <tr>\n",
       "      <th>8</th>\n",
       "      <td>0.081125</td>\n",
       "      <td>5.944622e-07</td>\n",
       "      <td>6.381659e-07</td>\n",
       "    </tr>\n",
       "    <tr>\n",
       "      <th>9</th>\n",
       "      <td>0.076267</td>\n",
       "      <td>5.048312e-07</td>\n",
       "      <td>5.390159e-07</td>\n",
       "    </tr>\n",
       "    <tr>\n",
       "      <th>11</th>\n",
       "      <td>0.033804</td>\n",
       "      <td>1.182881e-03</td>\n",
       "      <td>4.933861e-08</td>\n",
       "    </tr>\n",
       "    <tr>\n",
       "      <th>12</th>\n",
       "      <td>0.041588</td>\n",
       "      <td>1.182881e-03</td>\n",
       "      <td>5.151120e-08</td>\n",
       "    </tr>\n",
       "  </tbody>\n",
       "</table>\n",
       "</div>"
      ],
      "text/plain": [
       "    magpsf_corr  sigmapsf_corr  sigmapsf_corr_ext\n",
       "0      0.063876   1.182881e-03       1.348758e-07\n",
       "8      0.081125   5.944622e-07       6.381659e-07\n",
       "9      0.076267   5.048312e-07       5.390159e-07\n",
       "11     0.033804   1.182881e-03       4.933861e-08\n",
       "12     0.041588   1.182881e-03       5.151120e-08"
      ]
     },
     "execution_count": 34,
     "metadata": {},
     "output_type": "execute_result"
    }
   ],
   "source": [
    "df_unido.head()"
   ]
  },
  {
   "cell_type": "markdown",
   "metadata": {},
   "source": [
    "Se usa el metodo del codo para comprobar la cantidad de clusters"
   ]
  },
  {
   "cell_type": "code",
   "execution_count": 35,
   "metadata": {},
   "outputs": [
    {
     "name": "stderr",
     "output_type": "stream",
     "text": [
      "C:\\Users\\julio\\anaconda3\\lib\\site-packages\\sklearn\\cluster\\_kmeans.py:1412: FutureWarning: The default value of `n_init` will change from 10 to 'auto' in 1.4. Set the value of `n_init` explicitly to suppress the warning\n",
      "  super()._check_params_vs_input(X, default_n_init=10)\n",
      "C:\\Users\\julio\\anaconda3\\lib\\site-packages\\sklearn\\cluster\\_kmeans.py:1412: FutureWarning: The default value of `n_init` will change from 10 to 'auto' in 1.4. Set the value of `n_init` explicitly to suppress the warning\n",
      "  super()._check_params_vs_input(X, default_n_init=10)\n",
      "C:\\Users\\julio\\anaconda3\\lib\\site-packages\\sklearn\\cluster\\_kmeans.py:1412: FutureWarning: The default value of `n_init` will change from 10 to 'auto' in 1.4. Set the value of `n_init` explicitly to suppress the warning\n",
      "  super()._check_params_vs_input(X, default_n_init=10)\n",
      "C:\\Users\\julio\\anaconda3\\lib\\site-packages\\sklearn\\cluster\\_kmeans.py:1412: FutureWarning: The default value of `n_init` will change from 10 to 'auto' in 1.4. Set the value of `n_init` explicitly to suppress the warning\n",
      "  super()._check_params_vs_input(X, default_n_init=10)\n",
      "C:\\Users\\julio\\anaconda3\\lib\\site-packages\\sklearn\\cluster\\_kmeans.py:1412: FutureWarning: The default value of `n_init` will change from 10 to 'auto' in 1.4. Set the value of `n_init` explicitly to suppress the warning\n",
      "  super()._check_params_vs_input(X, default_n_init=10)\n",
      "C:\\Users\\julio\\anaconda3\\lib\\site-packages\\sklearn\\cluster\\_kmeans.py:1412: FutureWarning: The default value of `n_init` will change from 10 to 'auto' in 1.4. Set the value of `n_init` explicitly to suppress the warning\n",
      "  super()._check_params_vs_input(X, default_n_init=10)\n",
      "C:\\Users\\julio\\anaconda3\\lib\\site-packages\\sklearn\\cluster\\_kmeans.py:1412: FutureWarning: The default value of `n_init` will change from 10 to 'auto' in 1.4. Set the value of `n_init` explicitly to suppress the warning\n",
      "  super()._check_params_vs_input(X, default_n_init=10)\n",
      "C:\\Users\\julio\\anaconda3\\lib\\site-packages\\sklearn\\cluster\\_kmeans.py:1412: FutureWarning: The default value of `n_init` will change from 10 to 'auto' in 1.4. Set the value of `n_init` explicitly to suppress the warning\n",
      "  super()._check_params_vs_input(X, default_n_init=10)\n",
      "C:\\Users\\julio\\anaconda3\\lib\\site-packages\\sklearn\\cluster\\_kmeans.py:1412: FutureWarning: The default value of `n_init` will change from 10 to 'auto' in 1.4. Set the value of `n_init` explicitly to suppress the warning\n",
      "  super()._check_params_vs_input(X, default_n_init=10)\n",
      "C:\\Users\\julio\\anaconda3\\lib\\site-packages\\sklearn\\cluster\\_kmeans.py:1412: FutureWarning: The default value of `n_init` will change from 10 to 'auto' in 1.4. Set the value of `n_init` explicitly to suppress the warning\n",
      "  super()._check_params_vs_input(X, default_n_init=10)\n",
      "C:\\Users\\julio\\anaconda3\\lib\\site-packages\\sklearn\\cluster\\_kmeans.py:1412: FutureWarning: The default value of `n_init` will change from 10 to 'auto' in 1.4. Set the value of `n_init` explicitly to suppress the warning\n",
      "  super()._check_params_vs_input(X, default_n_init=10)\n",
      "C:\\Users\\julio\\anaconda3\\lib\\site-packages\\sklearn\\cluster\\_kmeans.py:1412: FutureWarning: The default value of `n_init` will change from 10 to 'auto' in 1.4. Set the value of `n_init` explicitly to suppress the warning\n",
      "  super()._check_params_vs_input(X, default_n_init=10)\n",
      "C:\\Users\\julio\\anaconda3\\lib\\site-packages\\sklearn\\cluster\\_kmeans.py:1412: FutureWarning: The default value of `n_init` will change from 10 to 'auto' in 1.4. Set the value of `n_init` explicitly to suppress the warning\n",
      "  super()._check_params_vs_input(X, default_n_init=10)\n",
      "C:\\Users\\julio\\anaconda3\\lib\\site-packages\\sklearn\\cluster\\_kmeans.py:1412: FutureWarning: The default value of `n_init` will change from 10 to 'auto' in 1.4. Set the value of `n_init` explicitly to suppress the warning\n",
      "  super()._check_params_vs_input(X, default_n_init=10)\n",
      "C:\\Users\\julio\\anaconda3\\lib\\site-packages\\sklearn\\cluster\\_kmeans.py:1412: FutureWarning: The default value of `n_init` will change from 10 to 'auto' in 1.4. Set the value of `n_init` explicitly to suppress the warning\n",
      "  super()._check_params_vs_input(X, default_n_init=10)\n"
     ]
    },
    {
     "data": {
      "image/png": "[encoded data removed]",
      "text/plain": [
       "<Figure size 640x480 with 1 Axes>"
      ]
     },
     "metadata": {},
     "output_type": "display_data"
    }
   ],
   "source": [
    "sse = []\n",
    "\n",
    "clusters = list(range(1, 16))\n",
    "for k in clusters:\n",
    "    kmeans = KMeans(n_clusters=k).fit(df_unido)\n",
    "    sse.append(kmeans.inertia_)\n",
    "\n",
    "plt.plot(clusters, sse, marker=\"o\")\n",
    "plt.title(\"Metodo del codo de 1 a 15 clusters\")\n",
    "plt.grid(True)\n",
    "plt.show()"
   ]
  },
  {
   "cell_type": "markdown",
   "metadata": {},
   "source": [
    "Por conocimiento de filtros se uso 4, pero 3 tambien fue considerado por este metodo en otro set de pruebas"
   ]
  },
  {
   "cell_type": "code",
   "execution_count": 38,
   "metadata": {},
   "outputs": [
    {
     "data": {
      "text/plain": [
       "array([2, 2, 2, ..., 0, 0, 0])"
      ]
     },
     "execution_count": 38,
     "metadata": {},
     "output_type": "execute_result"
    }
   ],
   "source": [
    "kmeans = KMeans(n_clusters=4, n_init=20, max_iter=300)\n",
    "kmeans.fit(df_unido)\n",
    "y_pred = kmeans.predict(df_unido)\n",
    "kmeans.labels_"
   ]
  },
  {
   "cell_type": "code",
   "execution_count": 42,
   "metadata": {},
   "outputs": [
    {
     "data": {
      "image/png": "[encoded data removed]",
      "text/plain": [
       "<Figure size 640x480 with 1 Axes>"
      ]
     },
     "metadata": {},
     "output_type": "display_data"
    }
   ],
   "source": [
    "from sklearn.decomposition import PCA\n",
    "from sklearn.metrics import silhouette_samples\n",
    "new_X = PCA(n_components=2, random_state=0).fit_transform(df_unido)\n",
    "plt.scatter(new_X[:, 0], new_X[:, 1],c=kmeans.labels_)\n",
    "plt.show()"
   ]
  },
  {
   "cell_type": "markdown",
   "metadata": {},
   "source": [
    "Luego se vio su capacidad predictiva"
   ]
  },
  {
   "cell_type": "code",
   "execution_count": 43,
   "metadata": {},
   "outputs": [],
   "source": [
    "from sklearn.metrics import silhouette_score"
   ]
  },
  {
   "cell_type": "code",
   "execution_count": 46,
   "metadata": {},
   "outputs": [
    {
     "data": {
      "text/plain": [
       "array([0, 2, 2, ..., 0, 0, 0])"
      ]
     },
     "execution_count": 46,
     "metadata": {},
     "output_type": "execute_result"
    }
   ],
   "source": [
    "kmeans1 = KMeans(n_clusters=3, n_init=20, max_iter=300)\n",
    "kmeans1.fit(df_unido)\n",
    "y_pred = kmeans.predict(df_unido)\n",
    "kmeans1.labels_"
   ]
  },
  {
   "cell_type": "code",
   "execution_count": 47,
   "metadata": {},
   "outputs": [
    {
     "data": {
      "image/png": "[encoded data removed]",
      "text/plain": [
       "<Figure size 640x480 with 1 Axes>"
      ]
     },
     "metadata": {},
     "output_type": "display_data"
    }
   ],
   "source": [
    "new_X = PCA(n_components=2, random_state=0).fit_transform(df_unido)\n",
    "plt.scatter(new_X[:, 0], new_X[:, 1],c=kmeans1.labels_)\n",
    "plt.show()"
   ]
  },
  {
   "cell_type": "code",
   "execution_count": null,
   "metadata": {},
   "outputs": [],
   "source": [
    "print(\"Dataset X K-Means\\t\", silhouette_score(df_unido, kmeans1.labels_))"
   ]
  },
  {
   "cell_type": "code",
   "execution_count": null,
   "metadata": {},
   "outputs": [],
   "source": []
  }
 ],
 "metadata": {
  "kernelspec": {
   "display_name": "Python 3 (ipykernel)",
   "language": "python",
   "name": "python3"
  },
  "language_info": {
   "codemirror_mode": {
    "name": "ipython",
    "version": 3
   },
   "file_extension": ".py",
   "mimetype": "text/x-python",
   "name": "python",
   "nbconvert_exporter": "python",
   "pygments_lexer": "ipython3",
   "version": "3.9.7"
  }
 },
 "nbformat": 4,
 "nbformat_minor": 2
}
